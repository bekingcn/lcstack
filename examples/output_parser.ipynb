{
 "cells": [
  {
   "cell_type": "code",
   "execution_count": 1,
   "metadata": {},
   "outputs": [
    {
     "name": "stderr",
     "output_type": "stream",
     "text": [
      "USER_AGENT environment variable not set, consider setting it to identify your requests.\n"
     ]
    },
    {
     "name": "stdout",
     "output_type": "stream",
     "text": [
      "bar\n",
      "{'bar': AIMessage(content='bar', additional_kwargs={}, response_metadata={})}\n",
      "{'bar': [AIMessage(content='bar', additional_kwargs={}, response_metadata={})]}\n",
      "{'bar': AIMessage(content='', additional_kwargs={}, response_metadata={}, tool_calls=[{'name': 'tool_name', 'args': {'foo': 'bar'}, 'id': 'tc_3537229e-b6e1-44c5-8d69-bc2de93156b9_0', 'type': 'tool_call'}, {'name': 'tool_2_name', 'args': {'foo': 'foo_bar'}, 'id': 'tc_3537229e-b6e1-44c5-8d69-bc2de93156b9_1', 'type': 'tool_call'}])}\n"
     ]
    }
   ],
   "source": [
    "from lcstack.core.parsers import parse_data_with_type, NamedMappingParserArgs\n",
    "from lcstack.core.parsers import OutputParserType\n",
    "\n",
    "mapping_pass_through = {\n",
    "    None: NamedMappingParserArgs(\n",
    "        name=\"foo\",\n",
    "        output_type=OutputParserType.pass_through\n",
    "    )\n",
    "}\n",
    "\n",
    "mapping_message = {\n",
    "    \"bar\": NamedMappingParserArgs(\n",
    "        name=\"foo\",\n",
    "        output_type=OutputParserType.message,\n",
    "        message_role = \"ai\"\n",
    "    )\n",
    "}\n",
    "\n",
    "mapping_messages = {\n",
    "    \"bar\": NamedMappingParserArgs(\n",
    "        name=\"foo\",\n",
    "        output_type=OutputParserType.messages\n",
    "    )\n",
    "}\n",
    "\n",
    "data = {\"foo\": \"bar\"}\n",
    "print(parse_data_with_type(data=data, output_type=OutputParserType.struct, struct_mapping=mapping_pass_through))\n",
    "print(parse_data_with_type(data=data, output_type=OutputParserType.struct, struct_mapping=mapping_message))\n",
    "print(parse_data_with_type(data=data, output_type=OutputParserType.struct, struct_mapping=mapping_messages))\n",
    "\n",
    "data_with_tool_calls = {\"foo\": {\"tool_calls\": [{\"name\": \"tool_name\", \"args\": {\"foo\": \"bar\"}}, {\"name\": \"tool_2_name\", \"args\": {\"foo\": \"foo_bar\"}}]}}\n",
    "print(parse_data_with_type(data=data_with_tool_calls, output_type=OutputParserType.struct, struct_mapping=mapping_message))"
   ]
  }
 ],
 "metadata": {
  "kernelspec": {
   "display_name": "lcstack",
   "language": "python",
   "name": "python3"
  },
  "language_info": {
   "codemirror_mode": {
    "name": "ipython",
    "version": 3
   },
   "file_extension": ".py",
   "mimetype": "text/x-python",
   "name": "python",
   "nbconvert_exporter": "python",
   "pygments_lexer": "ipython3",
   "version": "3.12.5"
  }
 },
 "nbformat": 4,
 "nbformat_minor": 2
}
