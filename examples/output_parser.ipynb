{
 "cells": [
  {
   "cell_type": "code",
   "execution_count": 1,
   "metadata": {},
   "outputs": [
    {
     "name": "stderr",
     "output_type": "stream",
     "text": [
      "USER_AGENT environment variable not set, consider setting it to identify your requests.\n"
     ]
    },
    {
     "name": "stdout",
     "output_type": "stream",
     "text": [
      "bar\n",
      "{'bar': AIMessage(content='bar', additional_kwargs={}, response_metadata={})}\n",
      "{'bar': [AIMessage(content='bar', additional_kwargs={}, response_metadata={})]}\n",
      "{'bar': AIMessage(content='', additional_kwargs={}, response_metadata={}, tool_calls=[{'name': 'tool_name', 'args': {'foo': 'bar'}, 'id': 'tc_3537229e-b6e1-44c5-8d69-bc2de93156b9_0', 'type': 'tool_call'}, {'name': 'tool_2_name', 'args': {'foo': 'foo_bar'}, 'id': 'tc_3537229e-b6e1-44c5-8d69-bc2de93156b9_1', 'type': 'tool_call'}])}\n"
     ]
    }
   ],
   "source": [
    "from lcstack.core.parsers import parse_data_with_type, NamedMappingParserArgs\n",
    "from lcstack.core.parsers import OutputParserType\n",
    "\n",
    "mapping_pass_through = {\n",
    "    None: NamedMappingParserArgs(\n",
    "        name=\"foo\",\n",
    "        output_type=OutputParserType.pass_through\n",
    "    )\n",
    "}\n",
    "\n",
    "mapping_message = {\n",
    "    \"bar\": NamedMappingParserArgs(\n",
    "        name=\"foo\",\n",
    "        output_type=OutputParserType.message,\n",
    "        message_role = \"ai\"\n",
    "    )\n",
    "}\n",
    "\n",
    "mapping_messages = {\n",
    "    \"bar\": NamedMappingParserArgs(\n",
    "        name=\"foo\",\n",
    "        output_type=OutputParserType.messages\n",
    "    )\n",
    "}\n",
    "\n",
    "data = {\"foo\": \"bar\"}\n",
    "print(parse_data_with_type(data=data, output_type=OutputParserType.struct, struct_mapping=mapping_pass_through))\n",
    "print(parse_data_with_type(data=data, output_type=OutputParserType.struct, struct_mapping=mapping_message))\n",
    "print(parse_data_with_type(data=data, output_type=OutputParserType.struct, struct_mapping=mapping_messages))\n",
    "\n",
    "data_with_tool_calls = {\"foo\": {\"tool_calls\": [{\"name\": \"tool_name\", \"args\": {\"foo\": \"bar\"}}, {\"name\": \"tool_2_name\", \"args\": {\"foo\": \"foo_bar\"}}]}}\n",
    "print(parse_data_with_type(data=data_with_tool_calls, output_type=OutputParserType.struct, struct_mapping=mapping_message))"
   ]
  },
  {
   "cell_type": "markdown",
   "metadata": {},
   "source": [
    "### Langchain Output Parsers"
   ]
  },
  {
   "cell_type": "code",
   "execution_count": 1,
   "metadata": {},
   "outputs": [
    {
     "name": "stderr",
     "output_type": "stream",
     "text": [
      "USER_AGENT environment variable not set, consider setting it to identify your requests.\n"
     ]
    }
   ],
   "source": [
    "import lcstack\n",
    "\n",
    "lcstack.set_config_root(\"configs\")\n",
    "\n",
    "# type: \"str\", \"json\", \"comma_separated_list\", \"markdown_list\", \"numbered_list\", \"json_tools\", \"pydantic_tools\"."
   ]
  },
  {
   "cell_type": "code",
   "execution_count": 3,
   "metadata": {},
   "outputs": [
    {
     "name": "stdout",
     "output_type": "stream",
     "text": [
      "name='foo'\n",
      "foo\n"
     ]
    }
   ],
   "source": [
    "str_output_parser = \"\"\"\n",
    "str_parser:\n",
    "  initializer: lc_output_parser\n",
    "  data:\n",
    "    type: str\n",
    "    name: foo\n",
    "\"\"\"\n",
    "\n",
    "lcs = lcstack.LcStackBuilder.from_object(str_output_parser).build()\n",
    "str_parser = lcs.get(\"str_parser\")\n",
    "\n",
    "print(str_parser)\n",
    "\n",
    "from langchain_core.messages import AIMessage\n",
    "msg = AIMessage(content=\"foo\")\n",
    "print(str_parser.invoke(msg))"
   ]
  },
  {
   "cell_type": "code",
   "execution_count": 5,
   "metadata": {},
   "outputs": [
    {
     "name": "stdout",
     "output_type": "stream",
     "text": [
      "name='foo'\n",
      "['foo', 'bar', 'baz']\n"
     ]
    }
   ],
   "source": [
    "list_output_parser = \"\"\"\n",
    "list_parser:\n",
    "  initializer: lc_output_parser\n",
    "  data:\n",
    "    type: comma_separated_list\n",
    "    name: foo\n",
    "\"\"\"\n",
    "\n",
    "lcs = lcstack.LcStackBuilder.from_object(list_output_parser).build()\n",
    "list_parser = lcs.get(\"list_parser\")\n",
    "\n",
    "print(list_parser)\n",
    "\n",
    "from langchain_core.messages import AIMessage\n",
    "msg = AIMessage(content=\"foo,bar,baz\")\n",
    "print(list_parser.invoke(msg))"
   ]
  },
  {
   "cell_type": "code",
   "execution_count": 7,
   "metadata": {},
   "outputs": [
    {
     "name": "stdout",
     "output_type": "stream",
     "text": [
      "name='foo'\n",
      "['foo', 'bar', 'baz', 'qux', 'quux']\n"
     ]
    }
   ],
   "source": [
    "list_output_parser = \"\"\"\n",
    "list_parser:\n",
    "  initializer: lc_output_parser\n",
    "  data:\n",
    "    type: markdown_list\n",
    "    name: foo\n",
    "\"\"\"\n",
    "\n",
    "lcs = lcstack.LcStackBuilder.from_object(list_output_parser).build()\n",
    "list_parser = lcs.get(\"list_parser\")\n",
    "\n",
    "print(list_parser)\n",
    "\n",
    "from langchain_core.messages import AIMessage\n",
    "# markdown_list\n",
    "content = \"\"\"\n",
    "- foo\n",
    "- bar\n",
    "- baz\n",
    "  - qux\n",
    "  - quux\n",
    "\"\"\"\n",
    "msg = AIMessage(content=content)\n",
    "print(list_parser.invoke(msg))"
   ]
  },
  {
   "cell_type": "code",
   "execution_count": 9,
   "metadata": {},
   "outputs": [
    {
     "name": "stdout",
     "output_type": "stream",
     "text": [
      "name='foo'\n",
      "['foo', 'bar', 'bar', 'baz', 'qux', 'quux']\n"
     ]
    }
   ],
   "source": [
    "list_output_parser = \"\"\"\n",
    "list_parser:\n",
    "  initializer: lc_output_parser\n",
    "  data:\n",
    "    type: numbered_list\n",
    "    name: foo\n",
    "\"\"\"\n",
    "\n",
    "lcs = lcstack.LcStackBuilder.from_object(list_output_parser).build()\n",
    "list_parser = lcs.get(\"list_parser\")\n",
    "\n",
    "print(list_parser)\n",
    "\n",
    "from langchain_core.messages import AIMessage\n",
    "# numbered_list\n",
    "content = \"\"\"\n",
    "1. foo\n",
    "    1. bar\n",
    "2. bar\n",
    "3. baz\n",
    "  1. qux\n",
    "  2. quux\n",
    "\"\"\"\n",
    "msg = AIMessage(content=content)\n",
    "print(list_parser.invoke(msg))"
   ]
  },
  {
   "cell_type": "code",
   "execution_count": 16,
   "metadata": {},
   "outputs": [
    {
     "name": "stdout",
     "output_type": "stream",
     "text": [
      "name='foo'\n",
      "{'foo': {'bar': 'baz'}}\n",
      "{'foo': {'bar': 'baz'}}\n",
      "{'foo': {'bar': 'baz'}, 'foo2': {'bar2': 'baz2\\n}'}}\n"
     ]
    }
   ],
   "source": [
    "json_output_parser = \"\"\"\n",
    "json_parser:\n",
    "  initializer: lc_output_parser\n",
    "  data:\n",
    "    type: json\n",
    "    name: foo\n",
    "    partial: true\n",
    "\"\"\"\n",
    "\n",
    "lcs = lcstack.LcStackBuilder.from_object(json_output_parser).build()\n",
    "json_parser = lcs.get(\"json_parser\")\n",
    "\n",
    "print(json_parser)\n",
    "\n",
    "from langchain_core.messages import AIMessage\n",
    "# markdown json\n",
    "content_1 = \"\"\"\n",
    "```json\n",
    "{\n",
    "  \"foo\": {\n",
    "    \"bar\": \"baz\"\n",
    "  }\n",
    "}\n",
    "```\n",
    "\"\"\"\n",
    "# plain json\n",
    "content_2 = \"\"\"\n",
    "{\n",
    "  \"foo\": {\n",
    "    \"bar\": \"baz\"\n",
    "  }\n",
    "}\n",
    "\"\"\"\n",
    "# partial json\n",
    "content_3 = \"\"\"\n",
    "{\n",
    "  \"foo\": {\n",
    "    \"bar\": \"baz\"\n",
    "  },\n",
    "  \"foo2\": {\n",
    "    \"bar2\": \"baz2\n",
    "}\n",
    "\n",
    "\"\"\"\n",
    "msg = AIMessage(content=content_1)\n",
    "print(json_parser.invoke(msg))\n",
    "\n",
    "\n",
    "msg = AIMessage(content=content_2)\n",
    "print(json_parser.invoke(msg))\n",
    "\n",
    "\n",
    "msg = AIMessage(content=content_3)\n",
    "print(json_parser.invoke(msg))"
   ]
  },
  {
   "cell_type": "code",
   "execution_count": 20,
   "metadata": {},
   "outputs": [
    {
     "name": "stdout",
     "output_type": "stream",
     "text": [
      "name='foo'\n",
      "[{'args': {'a': 1}, 'type': 'foo'}]\n"
     ]
    }
   ],
   "source": [
    "tool_output_parser = \"\"\"\n",
    "tool_parser:\n",
    "  initializer: lc_output_parser\n",
    "  data:\n",
    "    type: \"json_tools\" # \"pydantic_tools\".\n",
    "    name: foo\n",
    "    partial: true\n",
    "\"\"\"\n",
    "\n",
    "lcs = lcstack.LcStackBuilder.from_object(tool_output_parser).build()\n",
    "tool_parser = lcs.get(\"tool_parser\")\n",
    "\n",
    "print(tool_parser)\n",
    "\n",
    "from langchain_core.messages import AIMessage\n",
    "# markdown json\n",
    "content_1 = [\n",
    "  {\n",
    "    \"name\": \"foo\",\n",
    "    \"args\": {\"a\": 1},\n",
    "    \"id\": \"123\"\n",
    "  }\n",
    "]\n",
    "\n",
    "msg = AIMessage(content=\"\", tool_calls=content_1)\n",
    "print(tool_parser.invoke(msg))"
   ]
  },
  {
   "cell_type": "code",
   "execution_count": 7,
   "metadata": {},
   "outputs": [
    {
     "name": "stdout",
     "output_type": "stream",
     "text": [
      "name='foo' tools=[<class '__main__.Foo'>]\n",
      "[Foo(a=1)]\n"
     ]
    }
   ],
   "source": [
    "tool_output_parser = \"\"\"\n",
    "tool_parser:\n",
    "  initializer: lc_output_parser\n",
    "  data:\n",
    "    type: \"pydantic_tools\"\n",
    "    name: foo\n",
    "    tools: []\n",
    "\"\"\"\n",
    "\n",
    "\n",
    "from pydantic import BaseModel\n",
    "from langchain_core.tools import tool\n",
    "\n",
    "\n",
    "@tool\n",
    "def foo(a: int):\n",
    "    \"\"\"Demo Tool\"\"\"\n",
    "    return a\n",
    "\n",
    "class Foo(BaseModel):\n",
    "    \"\"\"Demo Foo Model\"\"\"\n",
    "\n",
    "    a: int\n",
    "    \"\"\"an int field\"\"\"\n",
    "\n",
    "tool_output_parser = {\n",
    "    \"tool_parser\": {\n",
    "        \"initializer\": \"lc_output_parser\",\n",
    "        \"data\": {\n",
    "            \"type\": \"pydantic_tools\",\n",
    "            \"name\": \"foo\",\n",
    "            \"tools\": [Foo] # [Foo, foo()] # [Foo, foo]\n",
    "        }\n",
    "    }\n",
    "}\n",
    "\n",
    "\n",
    "lcs = lcstack.LcStackBuilder.from_object(tool_output_parser).build()\n",
    "tool_parser = lcs.get(\"tool_parser\")\n",
    "\n",
    "print(tool_parser)\n",
    "\n",
    "from langchain_core.messages import AIMessage\n",
    "# markdown json\n",
    "content_1 = [\n",
    "  {\n",
    "    \"name\": \"Foo\",\n",
    "    \"args\": {\"a\": 1},\n",
    "    \"id\": \"123\"\n",
    "  },\n",
    "]\n",
    "\n",
    "msg = AIMessage(content=\"\", tool_calls=content_1)\n",
    "print(tool_parser.invoke(msg))"
   ]
  },
  {
   "cell_type": "code",
   "execution_count": null,
   "metadata": {},
   "outputs": [],
   "source": [
    "from langchain_core.tools.convert import Convert"
   ]
  }
 ],
 "metadata": {
  "kernelspec": {
   "display_name": "lcstack",
   "language": "python",
   "name": "python3"
  },
  "language_info": {
   "codemirror_mode": {
    "name": "ipython",
    "version": 3
   },
   "file_extension": ".py",
   "mimetype": "text/x-python",
   "name": "python",
   "nbconvert_exporter": "python",
   "pygments_lexer": "ipython3",
   "version": "3.12.5"
  }
 },
 "nbformat": 4,
 "nbformat_minor": 2
}
